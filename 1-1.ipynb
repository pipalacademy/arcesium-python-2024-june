{
 "cells": [
  {
   "cell_type": "markdown",
   "id": "7366437b-7ed0-4077-8616-e6d71caed2b3",
   "metadata": {},
   "source": [
    "# Module 1 - Day 1"
   ]
  },
  {
   "cell_type": "code",
   "execution_count": 1,
   "id": "0f890af2-1487-4220-ad29-e02279374a94",
   "metadata": {},
   "outputs": [
    {
     "data": {
      "text/plain": [
       "3"
      ]
     },
     "execution_count": 1,
     "metadata": {},
     "output_type": "execute_result"
    }
   ],
   "source": [
    "1 + 2"
   ]
  },
  {
   "cell_type": "code",
   "execution_count": null,
   "id": "3fa3211e-fa88-44f1-a356-7484e772d16f",
   "metadata": {},
   "outputs": [],
   "source": []
  }
 ],
 "metadata": {
  "kernelspec": {
   "display_name": "Python 3 (ipykernel)",
   "language": "python",
   "name": "python3"
  },
  "language_info": {
   "codemirror_mode": {
    "name": "ipython",
    "version": 3
   },
   "file_extension": ".py",
   "mimetype": "text/x-python",
   "name": "python",
   "nbconvert_exporter": "python",
   "pygments_lexer": "ipython3",
   "version": "3.10.10"
  }
 },
 "nbformat": 4,
 "nbformat_minor": 5
}
